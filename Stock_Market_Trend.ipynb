{
  "cells": [
    {
      "cell_type": "markdown",
      "metadata": {
        "id": "view-in-github",
        "colab_type": "text"
      },
      "source": [
        "<a href=\"https://colab.research.google.com/github/prasad26-cse/Stock-Market-Trend-Prediction1/blob/main/Stock_Market_Trend.ipynb\" target=\"_parent\"><img src=\"https://colab.research.google.com/assets/colab-badge.svg\" alt=\"Open In Colab\"/></a>"
      ]
    },
    {
      "cell_type": "code",
      "source": [
        "# Install dependencies if needed (uncomment in Colab)\n",
        "# !pip install --quiet tensorflow==2.14.0 scikit-learn\n",
        "\n",
        "import numpy as np\n",
        "import pandas as pd\n",
        "import matplotlib.pyplot as plt\n",
        "import os\n",
        "import random\n",
        "from sklearn.preprocessing import StandardScaler, LabelEncoder\n",
        "from sklearn.metrics import classification_report, confusion_matrix\n",
        "import seaborn as sns\n",
        "import tensorflow as tf\n",
        "from tensorflow.keras import layers, models, callbacks, utils\n",
        "from google.colab import drive"
      ],
      "metadata": {
        "id": "eaCnJ9V1iomh"
      },
      "execution_count": null,
      "outputs": []
    },
    {
      "cell_type": "code",
      "source": [
        "# Reproducibility\n",
        "SEED = 42\n",
        "np.random.seed(SEED)\n",
        "tf.random.set_seed(SEED)\n",
        "random.seed(SEED)"
      ],
      "metadata": {
        "id": "-bzKiWg0isTT"
      },
      "execution_count": null,
      "outputs": []
    },
    {
      "cell_type": "code",
      "source": [
        "# Mount Google Drive\n",
        "drive.mount(\"/content/drive\")"
      ],
      "metadata": {
        "id": "wpuFR0KKit1u",
        "colab": {
          "base_uri": "https://localhost:8080/"
        },
        "outputId": "f79e2a69-6512-479a-ecd0-d29dc6300402"
      },
      "execution_count": null,
      "outputs": [
        {
          "output_type": "stream",
          "name": "stdout",
          "text": [
            "Mounted at /content/drive\n"
          ]
        }
      ]
    },
    {
      "cell_type": "code",
      "source": [
        "DATA_PATH = \"/content/drive/MyDrive/Assignment/large_32 (2).csv\"  # change if needed\n",
        "DATE_COL = \"Date Time\"\n",
        "OPEN_COL = \"Open\"\n",
        "CLOSE_COL = \"Close\"\n",
        "LOOKAHEAD = 5   # next 5 candles for label generation\n",
        "WINDOW = 60     # number of past candles used as input sequence\n",
        "TEST_SPLIT_RATIO = 0.15\n",
        "VAL_SPLIT_RATIO = 0.1   # (of training set) used for validation during training\n",
        "BATCH_SIZE = 64\n",
        "EPOCHS = 60"
      ],
      "metadata": {
        "id": "732FkO-Di-Et"
      },
      "execution_count": null,
      "outputs": []
    },
    {
      "cell_type": "code",
      "source": [
        "df = pd.read_csv(DATA_PATH)\n",
        "print(\"Raw columns:\", list(df.columns)[:40])\n",
        "print(\"Rows:\", len(df))"
      ],
      "metadata": {
        "id": "hFQgijK0jBUd",
        "colab": {
          "base_uri": "https://localhost:8080/"
        },
        "outputId": "86392dce-ebb9-4777-b35c-08be7b710535"
      },
      "execution_count": null,
      "outputs": [
        {
          "output_type": "stream",
          "name": "stdout",
          "text": [
            "Raw columns: ['Date Time', 'Open', 'High', 'Low', 'Close', 'Volume', 'SMA 5', 'SMA 10', 'SMA 50', 'RSI 14', 'MACD LINE', 'MACD SIGNAL', 'MACD HISTOGRAM', 'BOLLINGER BAND SMA', 'BOLLINGER BAND UPPER', 'BOLLINGER BAND LOWER', 'ALLIGATOR JAW', 'ALLIGATOR TEETH', 'ALLIGATOR LIPS', 'EMA 9', 'KAMA', 'KAMA COLOR', 'ATR', 'RMA 14', 'SMOOTH MA 14', 'WMA 14']\n",
            "Rows: 92514\n"
          ]
        }
      ]
    },
    {
      "cell_type": "code",
      "source": [
        "if DATE_COL in df.columns:\n",
        "    df[DATE_COL] = pd.to_datetime(df[DATE_COL])\n",
        "    df.sort_values(DATE_COL, inplace=True)\n",
        "    df.reset_index(drop=True, inplace=True)\n",
        "else:\n",
        "    # If no Date Time column, assume already chronological\n",
        "    print(f\"Warning: '{DATE_COL}' not found; assuming rows are chronological.\")"
      ],
      "metadata": {
        "id": "81pB-bf8jHk9"
      },
      "execution_count": null,
      "outputs": []
    },
    {
      "cell_type": "code",
      "source": [
        "original_df = df.copy()\n",
        "# Ensure required columns exist\n",
        "for col in [OPEN_COL, CLOSE_COL]:\n",
        "    if col not in df.columns:\n",
        "        raise ValueError(f\"Required column '{col}' not in CSV.\")\n"
      ],
      "metadata": {
        "id": "G2AKMgvdjIuT"
      },
      "execution_count": null,
      "outputs": []
    },
    {
      "cell_type": "code",
      "source": [
        "df = df.fillna(method=\"ffill\").fillna(method=\"bfill\")"
      ],
      "metadata": {
        "id": "hvQHtU2vjMDp",
        "colab": {
          "base_uri": "https://localhost:8080/"
        },
        "outputId": "40c2c187-7a91-4f33-f180-eceb8405b1f6"
      },
      "execution_count": null,
      "outputs": [
        {
          "output_type": "stream",
          "name": "stderr",
          "text": [
            "/tmp/ipython-input-2389030365.py:1: FutureWarning: DataFrame.fillna with 'method' is deprecated and will raise in a future version. Use obj.ffill() or obj.bfill() instead.\n",
            "  df = df.fillna(method=\"ffill\").fillna(method=\"bfill\")\n"
          ]
        }
      ]
    },
    {
      "cell_type": "code",
      "source": [
        "# 4) Label generation: next LOOKAHEAD candles\n",
        "# For each row i, look at rows i+1 ... i+LOOKAHEAD (we will drop last LOOKAHEAD rows)\n",
        "def generate_trend_label(sub):\n",
        "    # sub is a DataFrame slice of length LOOKAHEAD\n",
        "    opens = sub[OPEN_COL].values\n",
        "    closes = sub[CLOSE_COL].values\n",
        "    # all green?\n",
        "    if np.all(closes > opens):\n",
        "        return \"uptrend\"\n",
        "    # all red?\n",
        "    if np.all(closes < opens):\n",
        "        return \"downtrend\"\n",
        "    # else neutral\n",
        "    return \"neutral\"\n",
        "\n",
        "labels = []\n",
        "for i in range(len(df) - LOOKAHEAD):\n",
        "    window_next = df.iloc[i+1 : i+1+LOOKAHEAD]  # next LOOKAHEAD rows\n",
        "    lab = generate_trend_label(window_next)\n",
        "    labels.append(lab)"
      ],
      "metadata": {
        "id": "3Jr2JpJzjPaZ"
      },
      "execution_count": null,
      "outputs": []
    },
    {
      "cell_type": "code",
      "source": [
        "# Trim df to match labels (remove last LOOKAHEAD rows)\n",
        "df_labeled = df.iloc[: len(labels)].copy()\n",
        "df_labeled[\"label\"] = labels\n",
        "print(\"Label distribution:\\n\", df_labeled[\"label\"].value_counts())"
      ],
      "metadata": {
        "id": "OPrV6EVojWw3",
        "colab": {
          "base_uri": "https://localhost:8080/"
        },
        "outputId": "9c4d3c93-bd0b-451d-8101-4638e2fed739"
      },
      "execution_count": null,
      "outputs": [
        {
          "output_type": "stream",
          "name": "stdout",
          "text": [
            "Label distribution:\n",
            " label\n",
            "neutral      87120\n",
            "uptrend       2735\n",
            "downtrend     2654\n",
            "Name: count, dtype: int64\n"
          ]
        }
      ]
    },
    {
      "cell_type": "code",
      "source": [
        "# 5) Feature selection / engineering\n",
        "# Choose features to feed the model. We'll use numeric columns except Date Time and label.\n",
        "exclude = {DATE_COL, \"label\"}\n",
        "feature_cols = [c for c in df_labeled.columns if c not in exclude and df_labeled[c].dtype in [np.float64, np.float32, np.int64, np.int32]]\n",
        "print(\"Suggested numeric features (auto):\", feature_cols)\n",
        "\n",
        "# If you want top-of-file columns explicitly, you may choose:\n",
        "# feature_cols = [\"Open\",\"High\",\"Low\",\"Close\",\"Volume\",\"SMA 5\",\"SMA 10\",\"RSI 14\", ...]\n",
        "# but we'll just use all numeric features found.\n",
        "\n",
        "# Convert to numeric if necessary\n",
        "df_feats = df_labeled[feature_cols].apply(pd.to_numeric, errors='coerce')\n",
        "df_feats = df_feats.fillna(method=\"ffill\").fillna(method=\"bfill\")"
      ],
      "metadata": {
        "id": "vgE9-IuwjZvC",
        "colab": {
          "base_uri": "https://localhost:8080/"
        },
        "outputId": "e35af1be-893c-4872-96ec-8a291922bd5b"
      },
      "execution_count": null,
      "outputs": [
        {
          "output_type": "stream",
          "name": "stdout",
          "text": [
            "Suggested numeric features (auto): ['Open', 'High', 'Low', 'Close', 'Volume', 'SMA 5', 'SMA 10', 'SMA 50', 'RSI 14', 'MACD LINE', 'MACD SIGNAL', 'MACD HISTOGRAM', 'BOLLINGER BAND SMA', 'BOLLINGER BAND UPPER', 'BOLLINGER BAND LOWER', 'ALLIGATOR JAW', 'ALLIGATOR TEETH', 'ALLIGATOR LIPS', 'EMA 9', 'KAMA', 'KAMA COLOR', 'ATR', 'RMA 14', 'SMOOTH MA 14', 'WMA 14']\n"
          ]
        },
        {
          "output_type": "stream",
          "name": "stderr",
          "text": [
            "/tmp/ipython-input-2788248113.py:13: FutureWarning: DataFrame.fillna with 'method' is deprecated and will raise in a future version. Use obj.ffill() or obj.bfill() instead.\n",
            "  df_feats = df_feats.fillna(method=\"ffill\").fillna(method=\"bfill\")\n"
          ]
        }
      ]
    },
    {
      "cell_type": "code",
      "source": [
        "# 7) Build sequences (X) and labels (y)\n",
        "X = []\n",
        "y = []\n",
        "for i in range(WINDOW, len(df_feats)):\n",
        "    seq = df_feats.iloc[i-WINDOW : i].values  # shape (WINDOW, n_features)\n",
        "    X.append(seq)\n",
        "    y.append(df_labeled[\"label\"].iloc[i])    # label aligned with the last row of the window\n",
        "\n",
        "X = np.array(X)  # shape (N, WINDOW, n_features)\n",
        "y = np.array(y)\n",
        "print(\"X shape:\", X.shape, \"y shape:\", y.shape)"
      ],
      "metadata": {
        "id": "mGuu1NggjeE1",
        "colab": {
          "base_uri": "https://localhost:8080/"
        },
        "outputId": "9cf7ff25-b8e1-48b0-b528-9b46a82ac5ef"
      },
      "execution_count": null,
      "outputs": [
        {
          "output_type": "stream",
          "name": "stdout",
          "text": [
            "X shape: (92449, 60, 25) y shape: (92449,)\n"
          ]
        }
      ]
    },
    {
      "cell_type": "code",
      "source": [
        "# 8) Encode labels\n",
        "le = LabelEncoder()\n",
        "y_enc = le.fit_transform(y)   # integers 0..C-1\n",
        "num_classes = len(le.classes_)\n",
        "print(\"Classes:\", le.classes_)\n"
      ],
      "metadata": {
        "id": "7wQFKBEHjowk",
        "colab": {
          "base_uri": "https://localhost:8080/"
        },
        "outputId": "e7de7c07-9ab1-4017-dfd1-f80f76d601a7"
      },
      "execution_count": null,
      "outputs": [
        {
          "output_type": "stream",
          "name": "stdout",
          "text": [
            "Classes: ['downtrend' 'neutral' 'uptrend']\n"
          ]
        }
      ]
    },
    {
      "cell_type": "code",
      "source": [
        "# 9) Train/validation/test split (time-series split — no shuffling)\n",
        "n_total = len(X)\n",
        "n_test = int(np.ceil(TEST_SPLIT_RATIO * n_total))\n",
        "n_trainval = n_total - n_test\n",
        "\n",
        "# For validation we'll carve out the last VAL_SPLIT_RATIO portion of the trainval part\n",
        "n_val = int(np.ceil(VAL_SPLIT_RATIO * n_trainval))\n",
        "n_train = n_trainval - n_val\n",
        "\n",
        "X_train = X[:n_train]\n",
        "y_train = y_enc[:n_train]\n",
        "X_val = X[n_train:n_train+n_val]\n",
        "y_val = y_enc[n_train:n_train+n_val]\n",
        "X_test = X[n_train+n_val:]\n",
        "y_test = y_enc[n_train+n_val:]\n",
        "\n",
        "print(\"Train / Val / Test sizes:\", X_train.shape[0], X_val.shape[0], X_test.shape[0])"
      ],
      "metadata": {
        "id": "ylzN8wPZjus_",
        "colab": {
          "base_uri": "https://localhost:8080/"
        },
        "outputId": "b7e0363b-04a2-481c-aa45-676fff792987"
      },
      "execution_count": null,
      "outputs": [
        {
          "output_type": "stream",
          "name": "stdout",
          "text": [
            "Train / Val / Test sizes: 70722 7859 13868\n"
          ]
        }
      ]
    },
    {
      "cell_type": "code",
      "source": [
        "# 10) Fit scaler on flattened features of train data, then transform all splits\n",
        "n_features = X.shape[2]\n",
        "scaler = StandardScaler()\n",
        "# Fit on train flattened (stack windows)\n",
        "X_train_flat = X_train.reshape(-1, n_features)\n",
        "scaler.fit(X_train_flat)\n",
        "\n",
        "def scale_X(X_in):\n",
        "    n = X_in.shape[0]\n",
        "    return scaler.transform(X_in.reshape(-1, n_features)).reshape(n, WINDOW, n_features)\n",
        "\n",
        "X_train_s = scale_X(X_train)\n",
        "X_val_s = scale_X(X_val)\n",
        "X_test_s = scale_X(X_test)\n"
      ],
      "metadata": {
        "id": "dxAkERGyjyau"
      },
      "execution_count": null,
      "outputs": []
    },
    {
      "cell_type": "code",
      "source": [
        "# 11) Class weights to mitigate imbalance\n",
        "from sklearn.utils import class_weight\n",
        "class_weights = class_weight.compute_class_weight('balanced', classes=np.unique(y_train), y=y_train)\n",
        "class_weights_dict = {i: w for i, w in enumerate(class_weights)}\n",
        "print(\"Class weights:\", class_weights_dict)"
      ],
      "metadata": {
        "id": "NC2ZkBcajznt",
        "colab": {
          "base_uri": "https://localhost:8080/"
        },
        "outputId": "b4fb97a9-f2a6-49b4-e24b-77e6f2c3f51a"
      },
      "execution_count": null,
      "outputs": [
        {
          "output_type": "stream",
          "name": "stdout",
          "text": [
            "Class weights: {0: np.float64(12.361824855794442), 1: np.float64(0.3535923203839808), 2: np.float64(10.990209790209791)}\n"
          ]
        }
      ]
    },
    {
      "cell_type": "code",
      "source": [
        "# 12) Build model - LSTM classifier\n",
        "def build_lstm_model(window=WINDOW, features=n_features, num_classes=num_classes):\n",
        "    inp = layers.Input(shape=(window, features))\n",
        "    x = layers.Masking()(inp)\n",
        "    x = layers.Bidirectional(layers.LSTM(128, return_sequences=True))(x)\n",
        "    x = layers.Dropout(0.2)(x)\n",
        "    x = layers.Bidirectional(layers.LSTM(64))(x)\n",
        "    x = layers.Dropout(0.2)(x)\n",
        "    x = layers.Dense(64, activation=\"relu\")(x)\n",
        "    x = layers.Dropout(0.2)(x)\n",
        "    out = layers.Dense(num_classes, activation=\"softmax\")(x)\n",
        "    model = models.Model(inputs=inp, outputs=out)\n",
        "    model.compile(optimizer=tf.keras.optimizers.Adam(learning_rate=1e-3),\n",
        "                  loss=\"sparse_categorical_crossentropy\",\n",
        "                  metrics=[\"accuracy\"])\n",
        "    return model\n",
        "\n",
        "model = build_lstm_model()\n",
        "model.summary()"
      ],
      "metadata": {
        "id": "B627wS1Ij3Rc",
        "colab": {
          "base_uri": "https://localhost:8080/",
          "height": 578
        },
        "outputId": "4c165167-3ca8-48db-d42c-06beeeaa06a8"
      },
      "execution_count": null,
      "outputs": [
        {
          "output_type": "display_data",
          "data": {
            "text/plain": [
              "\u001b[1mModel: \"functional_1\"\u001b[0m\n"
            ],
            "text/html": [
              "<pre style=\"white-space:pre;overflow-x:auto;line-height:normal;font-family:Menlo,'DejaVu Sans Mono',consolas,'Courier New',monospace\"><span style=\"font-weight: bold\">Model: \"functional_1\"</span>\n",
              "</pre>\n"
            ]
          },
          "metadata": {}
        },
        {
          "output_type": "display_data",
          "data": {
            "text/plain": [
              "┏━━━━━━━━━━━━━━━━━━━━━┳━━━━━━━━━━━━━━━━━━━┳━━━━━━━━━━━━┳━━━━━━━━━━━━━━━━━━━┓\n",
              "┃\u001b[1m \u001b[0m\u001b[1mLayer (type)       \u001b[0m\u001b[1m \u001b[0m┃\u001b[1m \u001b[0m\u001b[1mOutput Shape     \u001b[0m\u001b[1m \u001b[0m┃\u001b[1m \u001b[0m\u001b[1m   Param #\u001b[0m\u001b[1m \u001b[0m┃\u001b[1m \u001b[0m\u001b[1mConnected to     \u001b[0m\u001b[1m \u001b[0m┃\n",
              "┡━━━━━━━━━━━━━━━━━━━━━╇━━━━━━━━━━━━━━━━━━━╇━━━━━━━━━━━━╇━━━━━━━━━━━━━━━━━━━┩\n",
              "│ input_layer_1       │ (\u001b[38;5;45mNone\u001b[0m, \u001b[38;5;34m60\u001b[0m, \u001b[38;5;34m25\u001b[0m)    │          \u001b[38;5;34m0\u001b[0m │ -                 │\n",
              "│ (\u001b[38;5;33mInputLayer\u001b[0m)        │                   │            │                   │\n",
              "├─────────────────────┼───────────────────┼────────────┼───────────────────┤\n",
              "│ not_equal_1         │ (\u001b[38;5;45mNone\u001b[0m, \u001b[38;5;34m60\u001b[0m, \u001b[38;5;34m25\u001b[0m)    │          \u001b[38;5;34m0\u001b[0m │ input_layer_1[\u001b[38;5;34m0\u001b[0m]… │\n",
              "│ (\u001b[38;5;33mNotEqual\u001b[0m)          │                   │            │                   │\n",
              "├─────────────────────┼───────────────────┼────────────┼───────────────────┤\n",
              "│ masking_1 (\u001b[38;5;33mMasking\u001b[0m) │ (\u001b[38;5;45mNone\u001b[0m, \u001b[38;5;34m60\u001b[0m, \u001b[38;5;34m25\u001b[0m)    │          \u001b[38;5;34m0\u001b[0m │ input_layer_1[\u001b[38;5;34m0\u001b[0m]… │\n",
              "├─────────────────────┼───────────────────┼────────────┼───────────────────┤\n",
              "│ any_1 (\u001b[38;5;33mAny\u001b[0m)         │ (\u001b[38;5;45mNone\u001b[0m, \u001b[38;5;34m60\u001b[0m)        │          \u001b[38;5;34m0\u001b[0m │ not_equal_1[\u001b[38;5;34m0\u001b[0m][\u001b[38;5;34m0\u001b[0m] │\n",
              "├─────────────────────┼───────────────────┼────────────┼───────────────────┤\n",
              "│ bidirectional_2     │ (\u001b[38;5;45mNone\u001b[0m, \u001b[38;5;34m60\u001b[0m, \u001b[38;5;34m256\u001b[0m)   │    \u001b[38;5;34m157,696\u001b[0m │ masking_1[\u001b[38;5;34m0\u001b[0m][\u001b[38;5;34m0\u001b[0m],  │\n",
              "│ (\u001b[38;5;33mBidirectional\u001b[0m)     │                   │            │ any_1[\u001b[38;5;34m0\u001b[0m][\u001b[38;5;34m0\u001b[0m]       │\n",
              "├─────────────────────┼───────────────────┼────────────┼───────────────────┤\n",
              "│ dropout_3 (\u001b[38;5;33mDropout\u001b[0m) │ (\u001b[38;5;45mNone\u001b[0m, \u001b[38;5;34m60\u001b[0m, \u001b[38;5;34m256\u001b[0m)   │          \u001b[38;5;34m0\u001b[0m │ bidirectional_2[\u001b[38;5;34m…\u001b[0m │\n",
              "├─────────────────────┼───────────────────┼────────────┼───────────────────┤\n",
              "│ bidirectional_3     │ (\u001b[38;5;45mNone\u001b[0m, \u001b[38;5;34m128\u001b[0m)       │    \u001b[38;5;34m164,352\u001b[0m │ dropout_3[\u001b[38;5;34m0\u001b[0m][\u001b[38;5;34m0\u001b[0m],  │\n",
              "│ (\u001b[38;5;33mBidirectional\u001b[0m)     │                   │            │ any_1[\u001b[38;5;34m0\u001b[0m][\u001b[38;5;34m0\u001b[0m]       │\n",
              "├─────────────────────┼───────────────────┼────────────┼───────────────────┤\n",
              "│ dropout_4 (\u001b[38;5;33mDropout\u001b[0m) │ (\u001b[38;5;45mNone\u001b[0m, \u001b[38;5;34m128\u001b[0m)       │          \u001b[38;5;34m0\u001b[0m │ bidirectional_3[\u001b[38;5;34m…\u001b[0m │\n",
              "├─────────────────────┼───────────────────┼────────────┼───────────────────┤\n",
              "│ dense_2 (\u001b[38;5;33mDense\u001b[0m)     │ (\u001b[38;5;45mNone\u001b[0m, \u001b[38;5;34m64\u001b[0m)        │      \u001b[38;5;34m8,256\u001b[0m │ dropout_4[\u001b[38;5;34m0\u001b[0m][\u001b[38;5;34m0\u001b[0m]   │\n",
              "├─────────────────────┼───────────────────┼────────────┼───────────────────┤\n",
              "│ dropout_5 (\u001b[38;5;33mDropout\u001b[0m) │ (\u001b[38;5;45mNone\u001b[0m, \u001b[38;5;34m64\u001b[0m)        │          \u001b[38;5;34m0\u001b[0m │ dense_2[\u001b[38;5;34m0\u001b[0m][\u001b[38;5;34m0\u001b[0m]     │\n",
              "├─────────────────────┼───────────────────┼────────────┼───────────────────┤\n",
              "│ dense_3 (\u001b[38;5;33mDense\u001b[0m)     │ (\u001b[38;5;45mNone\u001b[0m, \u001b[38;5;34m3\u001b[0m)         │        \u001b[38;5;34m195\u001b[0m │ dropout_5[\u001b[38;5;34m0\u001b[0m][\u001b[38;5;34m0\u001b[0m]   │\n",
              "└─────────────────────┴───────────────────┴────────────┴───────────────────┘\n"
            ],
            "text/html": [
              "<pre style=\"white-space:pre;overflow-x:auto;line-height:normal;font-family:Menlo,'DejaVu Sans Mono',consolas,'Courier New',monospace\">┏━━━━━━━━━━━━━━━━━━━━━┳━━━━━━━━━━━━━━━━━━━┳━━━━━━━━━━━━┳━━━━━━━━━━━━━━━━━━━┓\n",
              "┃<span style=\"font-weight: bold\"> Layer (type)        </span>┃<span style=\"font-weight: bold\"> Output Shape      </span>┃<span style=\"font-weight: bold\">    Param # </span>┃<span style=\"font-weight: bold\"> Connected to      </span>┃\n",
              "┡━━━━━━━━━━━━━━━━━━━━━╇━━━━━━━━━━━━━━━━━━━╇━━━━━━━━━━━━╇━━━━━━━━━━━━━━━━━━━┩\n",
              "│ input_layer_1       │ (<span style=\"color: #00d7ff; text-decoration-color: #00d7ff\">None</span>, <span style=\"color: #00af00; text-decoration-color: #00af00\">60</span>, <span style=\"color: #00af00; text-decoration-color: #00af00\">25</span>)    │          <span style=\"color: #00af00; text-decoration-color: #00af00\">0</span> │ -                 │\n",
              "│ (<span style=\"color: #0087ff; text-decoration-color: #0087ff\">InputLayer</span>)        │                   │            │                   │\n",
              "├─────────────────────┼───────────────────┼────────────┼───────────────────┤\n",
              "│ not_equal_1         │ (<span style=\"color: #00d7ff; text-decoration-color: #00d7ff\">None</span>, <span style=\"color: #00af00; text-decoration-color: #00af00\">60</span>, <span style=\"color: #00af00; text-decoration-color: #00af00\">25</span>)    │          <span style=\"color: #00af00; text-decoration-color: #00af00\">0</span> │ input_layer_1[<span style=\"color: #00af00; text-decoration-color: #00af00\">0</span>]… │\n",
              "│ (<span style=\"color: #0087ff; text-decoration-color: #0087ff\">NotEqual</span>)          │                   │            │                   │\n",
              "├─────────────────────┼───────────────────┼────────────┼───────────────────┤\n",
              "│ masking_1 (<span style=\"color: #0087ff; text-decoration-color: #0087ff\">Masking</span>) │ (<span style=\"color: #00d7ff; text-decoration-color: #00d7ff\">None</span>, <span style=\"color: #00af00; text-decoration-color: #00af00\">60</span>, <span style=\"color: #00af00; text-decoration-color: #00af00\">25</span>)    │          <span style=\"color: #00af00; text-decoration-color: #00af00\">0</span> │ input_layer_1[<span style=\"color: #00af00; text-decoration-color: #00af00\">0</span>]… │\n",
              "├─────────────────────┼───────────────────┼────────────┼───────────────────┤\n",
              "│ any_1 (<span style=\"color: #0087ff; text-decoration-color: #0087ff\">Any</span>)         │ (<span style=\"color: #00d7ff; text-decoration-color: #00d7ff\">None</span>, <span style=\"color: #00af00; text-decoration-color: #00af00\">60</span>)        │          <span style=\"color: #00af00; text-decoration-color: #00af00\">0</span> │ not_equal_1[<span style=\"color: #00af00; text-decoration-color: #00af00\">0</span>][<span style=\"color: #00af00; text-decoration-color: #00af00\">0</span>] │\n",
              "├─────────────────────┼───────────────────┼────────────┼───────────────────┤\n",
              "│ bidirectional_2     │ (<span style=\"color: #00d7ff; text-decoration-color: #00d7ff\">None</span>, <span style=\"color: #00af00; text-decoration-color: #00af00\">60</span>, <span style=\"color: #00af00; text-decoration-color: #00af00\">256</span>)   │    <span style=\"color: #00af00; text-decoration-color: #00af00\">157,696</span> │ masking_1[<span style=\"color: #00af00; text-decoration-color: #00af00\">0</span>][<span style=\"color: #00af00; text-decoration-color: #00af00\">0</span>],  │\n",
              "│ (<span style=\"color: #0087ff; text-decoration-color: #0087ff\">Bidirectional</span>)     │                   │            │ any_1[<span style=\"color: #00af00; text-decoration-color: #00af00\">0</span>][<span style=\"color: #00af00; text-decoration-color: #00af00\">0</span>]       │\n",
              "├─────────────────────┼───────────────────┼────────────┼───────────────────┤\n",
              "│ dropout_3 (<span style=\"color: #0087ff; text-decoration-color: #0087ff\">Dropout</span>) │ (<span style=\"color: #00d7ff; text-decoration-color: #00d7ff\">None</span>, <span style=\"color: #00af00; text-decoration-color: #00af00\">60</span>, <span style=\"color: #00af00; text-decoration-color: #00af00\">256</span>)   │          <span style=\"color: #00af00; text-decoration-color: #00af00\">0</span> │ bidirectional_2[<span style=\"color: #00af00; text-decoration-color: #00af00\">…</span> │\n",
              "├─────────────────────┼───────────────────┼────────────┼───────────────────┤\n",
              "│ bidirectional_3     │ (<span style=\"color: #00d7ff; text-decoration-color: #00d7ff\">None</span>, <span style=\"color: #00af00; text-decoration-color: #00af00\">128</span>)       │    <span style=\"color: #00af00; text-decoration-color: #00af00\">164,352</span> │ dropout_3[<span style=\"color: #00af00; text-decoration-color: #00af00\">0</span>][<span style=\"color: #00af00; text-decoration-color: #00af00\">0</span>],  │\n",
              "│ (<span style=\"color: #0087ff; text-decoration-color: #0087ff\">Bidirectional</span>)     │                   │            │ any_1[<span style=\"color: #00af00; text-decoration-color: #00af00\">0</span>][<span style=\"color: #00af00; text-decoration-color: #00af00\">0</span>]       │\n",
              "├─────────────────────┼───────────────────┼────────────┼───────────────────┤\n",
              "│ dropout_4 (<span style=\"color: #0087ff; text-decoration-color: #0087ff\">Dropout</span>) │ (<span style=\"color: #00d7ff; text-decoration-color: #00d7ff\">None</span>, <span style=\"color: #00af00; text-decoration-color: #00af00\">128</span>)       │          <span style=\"color: #00af00; text-decoration-color: #00af00\">0</span> │ bidirectional_3[<span style=\"color: #00af00; text-decoration-color: #00af00\">…</span> │\n",
              "├─────────────────────┼───────────────────┼────────────┼───────────────────┤\n",
              "│ dense_2 (<span style=\"color: #0087ff; text-decoration-color: #0087ff\">Dense</span>)     │ (<span style=\"color: #00d7ff; text-decoration-color: #00d7ff\">None</span>, <span style=\"color: #00af00; text-decoration-color: #00af00\">64</span>)        │      <span style=\"color: #00af00; text-decoration-color: #00af00\">8,256</span> │ dropout_4[<span style=\"color: #00af00; text-decoration-color: #00af00\">0</span>][<span style=\"color: #00af00; text-decoration-color: #00af00\">0</span>]   │\n",
              "├─────────────────────┼───────────────────┼────────────┼───────────────────┤\n",
              "│ dropout_5 (<span style=\"color: #0087ff; text-decoration-color: #0087ff\">Dropout</span>) │ (<span style=\"color: #00d7ff; text-decoration-color: #00d7ff\">None</span>, <span style=\"color: #00af00; text-decoration-color: #00af00\">64</span>)        │          <span style=\"color: #00af00; text-decoration-color: #00af00\">0</span> │ dense_2[<span style=\"color: #00af00; text-decoration-color: #00af00\">0</span>][<span style=\"color: #00af00; text-decoration-color: #00af00\">0</span>]     │\n",
              "├─────────────────────┼───────────────────┼────────────┼───────────────────┤\n",
              "│ dense_3 (<span style=\"color: #0087ff; text-decoration-color: #0087ff\">Dense</span>)     │ (<span style=\"color: #00d7ff; text-decoration-color: #00d7ff\">None</span>, <span style=\"color: #00af00; text-decoration-color: #00af00\">3</span>)         │        <span style=\"color: #00af00; text-decoration-color: #00af00\">195</span> │ dropout_5[<span style=\"color: #00af00; text-decoration-color: #00af00\">0</span>][<span style=\"color: #00af00; text-decoration-color: #00af00\">0</span>]   │\n",
              "└─────────────────────┴───────────────────┴────────────┴───────────────────┘\n",
              "</pre>\n"
            ]
          },
          "metadata": {}
        },
        {
          "output_type": "display_data",
          "data": {
            "text/plain": [
              "\u001b[1m Total params: \u001b[0m\u001b[38;5;34m330,499\u001b[0m (1.26 MB)\n"
            ],
            "text/html": [
              "<pre style=\"white-space:pre;overflow-x:auto;line-height:normal;font-family:Menlo,'DejaVu Sans Mono',consolas,'Courier New',monospace\"><span style=\"font-weight: bold\"> Total params: </span><span style=\"color: #00af00; text-decoration-color: #00af00\">330,499</span> (1.26 MB)\n",
              "</pre>\n"
            ]
          },
          "metadata": {}
        },
        {
          "output_type": "display_data",
          "data": {
            "text/plain": [
              "\u001b[1m Trainable params: \u001b[0m\u001b[38;5;34m330,499\u001b[0m (1.26 MB)\n"
            ],
            "text/html": [
              "<pre style=\"white-space:pre;overflow-x:auto;line-height:normal;font-family:Menlo,'DejaVu Sans Mono',consolas,'Courier New',monospace\"><span style=\"font-weight: bold\"> Trainable params: </span><span style=\"color: #00af00; text-decoration-color: #00af00\">330,499</span> (1.26 MB)\n",
              "</pre>\n"
            ]
          },
          "metadata": {}
        },
        {
          "output_type": "display_data",
          "data": {
            "text/plain": [
              "\u001b[1m Non-trainable params: \u001b[0m\u001b[38;5;34m0\u001b[0m (0.00 B)\n"
            ],
            "text/html": [
              "<pre style=\"white-space:pre;overflow-x:auto;line-height:normal;font-family:Menlo,'DejaVu Sans Mono',consolas,'Courier New',monospace\"><span style=\"font-weight: bold\"> Non-trainable params: </span><span style=\"color: #00af00; text-decoration-color: #00af00\">0</span> (0.00 B)\n",
              "</pre>\n"
            ]
          },
          "metadata": {}
        }
      ]
    },
    {
      "cell_type": "code",
      "source": [
        "# 13) Callbacks\n",
        "es = callbacks.EarlyStopping(monitor=\"val_loss\", patience=8, restore_best_weights=True)\n",
        "mc = callbacks.ModelCheckpoint(\"best_model.h5\", monitor=\"val_loss\", save_best_only=True)"
      ],
      "metadata": {
        "id": "-LDl3-llj9nf"
      },
      "execution_count": null,
      "outputs": []
    },
    {
      "cell_type": "code",
      "source": [
        "# # 14) Train\n",
        "# history = model.fit(\n",
        "#     X_train_s, y_train,\n",
        "#     validation_data=(X_val_s, y_val),\n",
        "#     epochs=EPOCHS,\n",
        "#     batch_size=BATCH_SIZE,\n",
        "#     class_weight=class_weights_dict,\n",
        "#     callbacks=[es, mc],\n",
        "#     verbose=2\n",
        "# #\n",
        "# 14) Train\n",
        "history = model.fit(\n",
        "    X_train_s, y_train,\n",
        "    validation_data=(X_val_s, y_val),\n",
        "    epochs=EPOCHS,\n",
        "    batch_size=BATCH_SIZE,\n",
        "    class_weight=class_weights_dict,\n",
        "    callbacks=[es, mc],\n",
        "    verbose=2\n",
        ")\n",
        "# Convert training history to DataFrame\n",
        "history_df = pd.DataFrame(history.history)\n",
        "print(\"\\n=== Training Details per Epoch ===\")\n",
        "print(history_df)\n",
        "\n",
        "# Print last epoch summary\n",
        "print(\"\\n=== Final Epoch Results ===\")\n",
        "for k, v in history.history.items():\n",
        "    print(f\"{k}: {v[-1]:.4f}\")\n",
        "\n",
        "# Print best validation accuracy epoch\n",
        "best_epoch = np.argmax(history.history['val_accuracy']) + 1\n",
        "best_val_acc = np.max(history.history['val_accuracy'])\n",
        "print(f\"\\nBest Epoch: {best_epoch}  |  Best Val Accuracy: {best_val_acc:.4f}\")\n"
      ],
      "metadata": {
        "id": "GCG1jnTJj-so",
        "outputId": "8f0976ff-d0b9-462d-9673-e477310a4f99",
        "colab": {
          "base_uri": "https://localhost:8080/"
        }
      },
      "execution_count": null,
      "outputs": [
        {
          "output_type": "stream",
          "name": "stdout",
          "text": [
            "Epoch 1/60\n"
          ]
        },
        {
          "output_type": "stream",
          "name": "stderr",
          "text": [
            "WARNING:absl:You are saving your model as an HDF5 file via `model.save()` or `keras.saving.save_model(model)`. This file format is considered legacy. We recommend using instead the native Keras format, e.g. `model.save('my_model.keras')` or `keras.saving.save_model(model, 'my_model.keras')`. \n"
          ]
        },
        {
          "output_type": "stream",
          "name": "stdout",
          "text": [
            "1106/1106 - 23s - 21ms/step - accuracy: 0.3269 - loss: 1.1100 - val_accuracy: 0.0407 - val_loss: 1.1262\n",
            "Epoch 2/60\n"
          ]
        },
        {
          "output_type": "stream",
          "name": "stderr",
          "text": [
            "WARNING:absl:You are saving your model as an HDF5 file via `model.save()` or `keras.saving.save_model(model)`. This file format is considered legacy. We recommend using instead the native Keras format, e.g. `model.save('my_model.keras')` or `keras.saving.save_model(model, 'my_model.keras')`. \n"
          ]
        },
        {
          "output_type": "stream",
          "name": "stdout",
          "text": [
            "1106/1106 - 17s - 16ms/step - accuracy: 0.2528 - loss: 1.0978 - val_accuracy: 0.0412 - val_loss: 1.0751\n",
            "Epoch 3/60\n",
            "1106/1106 - 18s - 16ms/step - accuracy: 0.1873 - loss: 1.0965 - val_accuracy: 0.1316 - val_loss: 1.0948\n",
            "Epoch 4/60\n"
          ]
        },
        {
          "output_type": "stream",
          "name": "stderr",
          "text": [
            "WARNING:absl:You are saving your model as an HDF5 file via `model.save()` or `keras.saving.save_model(model)`. This file format is considered legacy. We recommend using instead the native Keras format, e.g. `model.save('my_model.keras')` or `keras.saving.save_model(model, 'my_model.keras')`. \n"
          ]
        },
        {
          "output_type": "stream",
          "name": "stdout",
          "text": [
            "1106/1106 - 17s - 16ms/step - accuracy: 0.1879 - loss: 1.0941 - val_accuracy: 0.0978 - val_loss: 1.0639\n",
            "Epoch 5/60\n"
          ]
        },
        {
          "output_type": "stream",
          "name": "stderr",
          "text": [
            "WARNING:absl:You are saving your model as an HDF5 file via `model.save()` or `keras.saving.save_model(model)`. This file format is considered legacy. We recommend using instead the native Keras format, e.g. `model.save('my_model.keras')` or `keras.saving.save_model(model, 'my_model.keras')`. \n"
          ]
        },
        {
          "output_type": "stream",
          "name": "stdout",
          "text": [
            "1106/1106 - 21s - 19ms/step - accuracy: 0.2195 - loss: 1.0926 - val_accuracy: 0.1006 - val_loss: 1.0637\n",
            "Epoch 6/60\n",
            "1106/1106 - 17s - 16ms/step - accuracy: 0.2024 - loss: 1.0905 - val_accuracy: 0.0602 - val_loss: 1.0896\n",
            "Epoch 7/60\n",
            "1106/1106 - 17s - 16ms/step - accuracy: 0.2209 - loss: 1.0901 - val_accuracy: 0.2022 - val_loss: 1.0660\n",
            "Epoch 8/60\n",
            "1106/1106 - 18s - 16ms/step - accuracy: 0.1722 - loss: 1.0894 - val_accuracy: 0.1000 - val_loss: 1.0843\n",
            "Epoch 9/60\n",
            "1106/1106 - 17s - 15ms/step - accuracy: 0.2360 - loss: 1.0860 - val_accuracy: 0.0687 - val_loss: 1.0779\n",
            "Epoch 10/60\n",
            "1106/1106 - 22s - 19ms/step - accuracy: 0.1126 - loss: 1.0860 - val_accuracy: 0.1313 - val_loss: 1.0875\n",
            "Epoch 11/60\n",
            "1106/1106 - 17s - 16ms/step - accuracy: 0.1664 - loss: 1.0833 - val_accuracy: 0.0639 - val_loss: 1.0903\n",
            "Epoch 12/60\n",
            "1106/1106 - 17s - 16ms/step - accuracy: 0.2250 - loss: 1.0831 - val_accuracy: 0.4559 - val_loss: 1.0711\n",
            "Epoch 13/60\n"
          ]
        },
        {
          "output_type": "stream",
          "name": "stderr",
          "text": [
            "WARNING:absl:You are saving your model as an HDF5 file via `model.save()` or `keras.saving.save_model(model)`. This file format is considered legacy. We recommend using instead the native Keras format, e.g. `model.save('my_model.keras')` or `keras.saving.save_model(model, 'my_model.keras')`. \n"
          ]
        },
        {
          "output_type": "stream",
          "name": "stdout",
          "text": [
            "1106/1106 - 18s - 16ms/step - accuracy: 0.2605 - loss: 1.0785 - val_accuracy: 0.2488 - val_loss: 1.0365\n",
            "Epoch 14/60\n",
            "1106/1106 - 17s - 15ms/step - accuracy: 0.2445 - loss: 1.0798 - val_accuracy: 0.3938 - val_loss: 1.0630\n",
            "Epoch 15/60\n",
            "1106/1106 - 17s - 15ms/step - accuracy: 0.2431 - loss: 1.0759 - val_accuracy: 0.2205 - val_loss: 1.0904\n",
            "Epoch 16/60\n",
            "1106/1106 - 18s - 16ms/step - accuracy: 0.1778 - loss: 1.0731 - val_accuracy: 0.1444 - val_loss: 1.0940\n",
            "Epoch 17/60\n",
            "1106/1106 - 17s - 15ms/step - accuracy: 0.1961 - loss: 1.0698 - val_accuracy: 0.3478 - val_loss: 1.0614\n",
            "Epoch 18/60\n",
            "1106/1106 - 17s - 15ms/step - accuracy: 0.2334 - loss: 1.0671 - val_accuracy: 0.1675 - val_loss: 1.0706\n",
            "Epoch 19/60\n",
            "1106/1106 - 18s - 16ms/step - accuracy: 0.1806 - loss: 1.0660 - val_accuracy: 0.0842 - val_loss: 1.0966\n",
            "Epoch 20/60\n",
            "1106/1106 - 17s - 15ms/step - accuracy: 0.1952 - loss: 1.0674 - val_accuracy: 0.2905 - val_loss: 1.0687\n",
            "Epoch 21/60\n",
            "1106/1106 - 17s - 15ms/step - accuracy: 0.1968 - loss: 1.0584 - val_accuracy: 0.1697 - val_loss: 1.0715\n",
            "\n",
            "=== Training Details per Epoch ===\n",
            "    accuracy      loss  val_accuracy  val_loss\n",
            "0   0.326900  1.110003      0.040718  1.126225\n",
            "1   0.252807  1.097771      0.041227  1.075055\n",
            "2   0.187268  1.096467      0.131569  1.094794\n",
            "3   0.187933  1.094059      0.097850  1.063887\n",
            "4   0.219451  1.092591      0.100649  1.063702\n",
            "5   0.202356  1.090512      0.060186  1.089604\n",
            "6   0.220950  1.090128      0.202189  1.066013\n",
            "7   0.172224  1.089412      0.100013  1.084340\n",
            "8   0.236023  1.086020      0.068711  1.077947\n",
            "9   0.112638  1.085996      0.131314  1.087535\n",
            "10  0.166440  1.083327      0.063876  1.090267\n",
            "11  0.224994  1.083082      0.455910  1.071083\n",
            "12  0.260456  1.078519      0.248759  1.036463\n",
            "13  0.244493  1.079773      0.393816  1.062951\n",
            "14  0.243079  1.075887      0.220512  1.090450\n",
            "15  0.177795  1.073066      0.144420  1.094038\n",
            "16  0.196106  1.069826      0.347754  1.061397\n",
            "17  0.233449  1.067133      0.167451  1.070644\n",
            "18  0.180623  1.066038      0.084235  1.096566\n",
            "19  0.195159  1.067440      0.290495  1.068709\n",
            "20  0.196827  1.058400      0.169742  1.071505\n",
            "\n",
            "=== Final Epoch Results ===\n",
            "accuracy: 0.1968\n",
            "loss: 1.0584\n",
            "val_accuracy: 0.1697\n",
            "val_loss: 1.0715\n",
            "\n",
            "Best Epoch: 12  |  Best Val Accuracy: 0.4559\n"
          ]
        }
      ]
    },
    {
      "cell_type": "code",
      "source": [
        "# 15) Evaluation: plots\n",
        "def plot_history(hist):\n",
        "    plt.figure(figsize=(12,4))\n",
        "    plt.subplot(1,2,1)\n",
        "    plt.plot(hist.history['loss'], label='train_loss')\n",
        "    plt.plot(hist.history['val_loss'], label='val_loss')\n",
        "    plt.legend(); plt.title(\"Loss\")\n",
        "    plt.subplot(1,2,2)\n",
        "    plt.plot(hist.history['accuracy'], label='train_acc')\n",
        "    plt.plot(hist.history['val_accuracy'], label='val_acc')\n",
        "    plt.legend(); plt.title(\"Accuracy\")\n",
        "    plt.show()\n",
        "\n",
        "plot_history(history)"
      ],
      "metadata": {
        "id": "Fd4jRlGqkF1J",
        "colab": {
          "base_uri": "https://localhost:8080/",
          "height": 391
        },
        "outputId": "8bb41c76-397c-478a-e836-17d2e293918d"
      },
      "execution_count": null,
      "outputs": [
        {
          "output_type": "display_data",
          "data": {
            "text/plain": [
              "<Figure size 1200x400 with 2 Axes>"
            ],
            "image/png": "[encoded data removed]"
          },
          "metadata": {}
        }
      ]
    },
    {
      "cell_type": "code",
      "source": [
        "# 16) Test evaluation\n",
        "y_pred_probs = model.predict(X_test_s)\n",
        "y_pred = np.argmax(y_pred_probs, axis=1)\n",
        "\n",
        "print(\"Classification report (test):\")\n",
        "print(classification_report(y_test, y_pred, target_names=le.classes_))\n",
        "\n",
        "# Confusion matrix\n",
        "cm = confusion_matrix(y_test, y_pred)\n",
        "plt.figure(figsize=(6,5))\n",
        "sns.heatmap(cm, annot=True, fmt='d', xticklabels=le.classes_, yticklabels=le.classes_)\n",
        "plt.xlabel(\"Predicted\"); plt.ylabel(\"True\"); plt.title(\"Confusion Matrix (Test)\")\n",
        "plt.show()"
      ],
      "metadata": {
        "id": "finWIAOpk-a8",
        "colab": {
          "base_uri": "https://localhost:8080/",
          "height": 695
        },
        "outputId": "05dff7e5-449f-4521-d7e6-8c16d166f7db"
      },
      "execution_count": null,
      "outputs": [
        {
          "output_type": "stream",
          "name": "stdout",
          "text": [
            "\u001b[1m434/434\u001b[0m \u001b[32m━━━━━━━━━━━━━━━━━━━━\u001b[0m\u001b[37m\u001b[0m \u001b[1m3s\u001b[0m 7ms/step\n",
            "Classification report (test):\n",
            "              precision    recall  f1-score   support\n",
            "\n",
            "   downtrend       0.03      0.51      0.06       449\n",
            "     neutral       0.94      0.19      0.31     13052\n",
            "     uptrend       0.03      0.38      0.05       367\n",
            "\n",
            "    accuracy                           0.20     13868\n",
            "   macro avg       0.34      0.36      0.14     13868\n",
            "weighted avg       0.89      0.20      0.30     13868\n",
            "\n"
          ]
        },
        {
          "output_type": "display_data",
          "data": {
            "text/plain": [
              "<Figure size 600x500 with 2 Axes>"
            ],
            "image/png": "[encoded data removed]"
          },
          "metadata": {}
        }
      ]
    },
    {
      "cell_type": "code",
      "source": [
        "# 18) Save model and encoder for later use\n",
        "model.save(\"trend_classifier_lstm.h5\")\n",
        "import joblib\n",
        "joblib.dump({\"label_encoder\": le, \"scaler\": scaler, \"feature_cols\": feature_cols}, \"preprocessing_artifacts.joblib\")\n",
        "\n",
        "print(\"Artifacts saved: best_model.h5, trend_classifier_lstm.h5, preprocessing_artifacts.joblib\")"
      ],
      "metadata": {
        "id": "oYfQf_PJlCiw",
        "colab": {
          "base_uri": "https://localhost:8080/"
        },
        "outputId": "62828065-f5ce-439d-8bdf-09166008ce92"
      },
      "execution_count": null,
      "outputs": [
        {
          "output_type": "stream",
          "name": "stderr",
          "text": [
            "WARNING:absl:You are saving your model as an HDF5 file via `model.save()` or `keras.saving.save_model(model)`. This file format is considered legacy. We recommend using instead the native Keras format, e.g. `model.save('my_model.keras')` or `keras.saving.save_model(model, 'my_model.keras')`. \n"
          ]
        },
        {
          "output_type": "stream",
          "name": "stdout",
          "text": [
            "Artifacts saved: best_model.h5, trend_classifier_lstm.h5, preprocessing_artifacts.joblib\n"
          ]
        }
      ]
    },
    {
      "cell_type": "code",
      "source": [
        "!pip install --quiet mplfinance\n"
      ],
      "metadata": {
        "colab": {
          "base_uri": "https://localhost:8080/"
        },
        "id": "d7y4U-Ja3DAA",
        "outputId": "3e0659a0-3fc2-4019-a52c-3464c1d1c81d"
      },
      "execution_count": 42,
      "outputs": [
        {
          "output_type": "stream",
          "name": "stdout",
          "text": [
            "\u001b[?25l   \u001b[90m━━━━━━━━━━━━━━━━━━━━━━━━━━━━━━━━━━━━━━━━\u001b[0m \u001b[32m0.0/75.0 kB\u001b[0m \u001b[31m?\u001b[0m eta \u001b[36m-:--:--\u001b[0m\r\u001b[2K   \u001b[90m━━━━━━━━━━━━━━━━━━━━━━━━━━━━━━━━━━━━━━━━\u001b[0m \u001b[32m75.0/75.0 kB\u001b[0m \u001b[31m7.1 MB/s\u001b[0m eta \u001b[36m0:00:00\u001b[0m\n",
            "\u001b[?25h"
          ]
        }
      ]
    },
    {
      "cell_type": "code",
      "source": [
        "import mplfinance as mpf\n",
        "\n",
        "def plot_candles_with_trend(df, start_idx=0, window=60, lookahead=5, trend_label=None, predicted_label=None):\n",
        "    \"\"\"\n",
        "    df: dataframe with OHLC and Date Time columns\n",
        "    start_idx: index to start plotting\n",
        "    window: number of past candles to show\n",
        "    lookahead: number of future candles (to indicate trend start)\n",
        "    trend_label: actual trend label (optional)\n",
        "    predicted_label: predicted trend label (optional)\n",
        "    \"\"\"\n",
        "    # Slice data\n",
        "    end_idx = start_idx + window + lookahead\n",
        "    plot_df = df.iloc[start_idx:end_idx].copy()\n",
        "    plot_df.set_index('Date Time', inplace=True)\n",
        "\n",
        "    # Add vertical line to indicate trend start\n",
        "    vlines = [plot_df.index[window]]  # start of lookahead\n",
        "\n",
        "    # Determine colors for vertical line\n",
        "    color_actual = {'uptrend':'green','downtrend':'red','neutral':'blue'}.get(trend_label, 'gray')\n",
        "    color_pred = {'uptrend':'lime','downtrend':'magenta','neutral':'cyan'}.get(predicted_label, None)\n",
        "\n",
        "    vlines_dict = dict(vlines=vlines, colors=color_actual, linewidths=2, alpha=0.8)\n",
        "\n",
        "    # If predicted_label exists, we can plot another vertical line slightly shifted\n",
        "    if predicted_label:\n",
        "        # shift by a small time delta to avoid overlap\n",
        "        shifted_idx = plot_df.index[window] + pd.Timedelta(seconds=1)\n",
        "        vlines_dict['vlines'] = [plot_df.index[window], shifted_idx]\n",
        "        vlines_dict['colors'] = [color_actual, color_pred]\n",
        "\n",
        "    mpf.plot(\n",
        "        plot_df,\n",
        "        type='candle',\n",
        "        style='yahoo',\n",
        "        title=f\"Candles {start_idx} → {end_idx}\\nActual: {trend_label} | Predicted: {predicted_label}\",\n",
        "        ylabel='Price',\n",
        "        volume=True,\n",
        "        vlines=vlines_dict\n",
        "    )\n"
      ],
      "metadata": {
        "id": "mep5G69j2qPk"
      },
      "execution_count": 47,
      "outputs": []
    }
  ],
  "metadata": {
    "colab": {
      "provenance": [],
      "gpuType": "T4",
      "include_colab_link": true
    },
    "kernelspec": {
      "display_name": "Python 3",
      "name": "python3"
    },
    "accelerator": "GPU"
  },
  "nbformat": 4,
  "nbformat_minor": 0
}